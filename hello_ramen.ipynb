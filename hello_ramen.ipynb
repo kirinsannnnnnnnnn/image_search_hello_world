{
 "cells": [
  {
   "cell_type": "markdown",
   "metadata": {
    "colab_type": "text",
    "id": "view-in-github"
   },
   "source": [
    "<a href=\"https://colab.research.google.com/github/kirinsannnnnnnnnn/image_search_hello_world/blob/master/hello_ramen.ipynb\" target=\"_parent\"><img src=\"https://colab.research.google.com/assets/colab-badge.svg\" alt=\"Open In Colab\"/></a>"
   ]
  },
  {
   "cell_type": "code",
   "execution_count": null,
   "metadata": {
    "colab": {},
    "colab_type": "code",
    "id": "5zVL4nHOPHu7"
   },
   "outputs": [],
   "source": [
    "import os\n",
    "is_colab = 'GCS_READ_CACHE_BLOCK_SIZE_MB' in os.environ\n",
    "\n",
    "import numpy as np\n",
    "import pandas as pd\n",
    "\n",
    "import matplotlib.pyplot as plt\n",
    "%matplotlib inline\n",
    "\n",
    "import cv2\n",
    "import os\n",
    "\n",
    "from IPython.display import Image\n",
    "from pathlib import Path\n",
    "\n",
    "from keras.applications.vgg19 import VGG19\n",
    "from keras_preprocessing import image\n",
    "from keras.models import Model\n",
    "\n",
    "from annoy import AnnoyIndex\n",
    "from keras.preprocessing import image\n",
    "from keras.applications.vgg19 import preprocess_input"
   ]
  },
  {
   "cell_type": "code",
   "execution_count": null,
   "metadata": {
    "colab": {},
    "colab_type": "code",
    "id": "6yG-gKHsPjWl"
   },
   "outputs": [],
   "source": [
    "## for colab\n",
    "if is_colab:\n",
    "    from google.colab import drive\n",
    "    drive.mount('./gdrive')\n",
    "    ! pip install annoy\n",
    "    ! mkdir -p gdrive/My\\ Drive/raw_data gdrive/My\\ Drive/intermediate_data\n",
    "    ! cd gdrive/My\\ Drive/raw_data\n",
    "    ! wget https://github.com/K-jun1221/reverse-image-search/raw/master/ramen_images.zip\n",
    "    ! unzip ramen_images.zip\n",
    "    ! rm -rf __MACOSX ramen_images.zip"
   ]
  },
  {
   "cell_type": "code",
   "execution_count": null,
   "metadata": {
    "colab": {
     "base_uri": "https://localhost:8080/",
     "height": 136
    },
    "colab_type": "code",
    "id": "0DUUSb9DQRCS",
    "outputId": "a642e6ec-48b0-4f78-a8f8-a59882560119"
   },
   "outputs": [],
   "source": [
    "## for local docker image\n",
    "! ls ./raw_data/ramen_images/ | head"
   ]
  },
  {
   "cell_type": "code",
   "execution_count": null,
   "metadata": {
    "colab": {
     "base_uri": "https://localhost:8080/",
     "height": 467
    },
    "colab_type": "code",
    "id": "8UZ3FdG2PrKR",
    "outputId": "2fa61865-5dd7-48ba-af6e-89f74c60a993"
   },
   "outputs": [],
   "source": [
    "data_dir = Path('raw_data/ramen_images/')\n",
    "if is_colab:\n",
    "    data_dir = Path('gdrive/My\\ Drive') / data_dir\n",
    "intermediate_dir = Path(\"intermediate_data\")\n",
    "\n",
    "img_path = data_dir / Path(\"ramen1.jpg\")\n",
    "Image(img_path)"
   ]
  },
  {
   "cell_type": "code",
   "execution_count": null,
   "metadata": {
    "colab": {
     "base_uri": "https://localhost:8080/",
     "height": 1000
    },
    "colab_type": "code",
    "id": "Yu_vikEaShdC",
    "outputId": "81a7b52a-855d-4738-94f9-14fc15314fe9"
   },
   "outputs": [],
   "source": [
    "base_model = VGG19(weights=\"imagenet\")\n",
    "base_model.summary()"
   ]
  },
  {
   "cell_type": "code",
   "execution_count": null,
   "metadata": {
    "colab": {
     "base_uri": "https://localhost:8080/",
     "height": 51
    },
    "colab_type": "code",
    "id": "PQZbRZl4Slki",
    "outputId": "915a9391-0441-4c1f-c391-632795084187"
   },
   "outputs": [],
   "source": [
    "print(base_model.input)\n",
    "print(base_model.output)"
   ]
  },
  {
   "cell_type": "code",
   "execution_count": null,
   "metadata": {
    "colab": {
     "base_uri": "https://localhost:8080/",
     "height": 1000
    },
    "colab_type": "code",
    "id": "d-Ui4OD1TRGR",
    "outputId": "1a6668bf-ae20-4237-f0c5-2006afe516d4"
   },
   "outputs": [],
   "source": [
    "img = image.load_img(img_path, target_size=(224, 224))\n",
    "input = image.img_to_array(img)\n",
    "result = base_model.predict(np.array([input]))\n",
    "print(\"配列の中身\", result)\n",
    "print(\"配列の長さ: \", len(result[0]))"
   ]
  },
  {
   "cell_type": "code",
   "execution_count": null,
   "metadata": {
    "colab": {
     "base_uri": "https://localhost:8080/",
     "height": 34
    },
    "colab_type": "code",
    "id": "zxZBMm15TabL",
    "outputId": "ca95dfa1-47fa-4d76-b51b-65e78f3d62dc"
   },
   "outputs": [],
   "source": [
    "type(img), type(result), result.shape"
   ]
  },
  {
   "cell_type": "code",
   "execution_count": null,
   "metadata": {
    "colab": {},
    "colab_type": "code",
    "id": "jPicbX0rWQsX"
   },
   "outputs": [],
   "source": [
    "model = Model(\n",
    "  inputs=base_model.input,\n",
    "  outputs=base_model.get_layer(\"fc2\").output\n",
    ")"
   ]
  },
  {
   "cell_type": "code",
   "execution_count": null,
   "metadata": {
    "colab": {
     "base_uri": "https://localhost:8080/",
     "height": 51
    },
    "colab_type": "code",
    "id": "poPdd640Wcsj",
    "outputId": "07c8c74f-243c-432a-b34c-069d7ff28a37"
   },
   "outputs": [],
   "source": [
    "input = image.img_to_array(img)\n",
    "result = model.predict(np.array([input]))\n",
    "print(\"実際の値\", result)\n",
    "print(\"配列の長さ: \", len(result[0]))"
   ]
  },
  {
   "cell_type": "code",
   "execution_count": null,
   "metadata": {
    "colab": {},
    "colab_type": "code",
    "id": "BTGsDi9SXYJz"
   },
   "outputs": [],
   "source": []
  },
  {
   "cell_type": "code",
   "execution_count": null,
   "metadata": {},
   "outputs": [],
   "source": [
    "%%time\n",
    "\n",
    "dim = 4096 \n",
    "annoy_model = AnnoyIndex(dim)\n",
    "\n",
    "for i in range (1, 11):\n",
    "    img_path = data_dir / \"ramen\" +str(i)+ \".jpg\"\n",
    "    img = image.load_img(img_path, target_size=(224, 224))\n",
    "    x = image.img_to_array(img)\n",
    "    x = np.expand_dims(x, axis=0)\n",
    "    x = preprocess_input(x)\n",
    "    fc2_features = model.predict(x)\n",
    "    annoy_model.add_item(i, fc2_features[0])"
   ]
  },
  {
   "cell_type": "code",
   "execution_count": null,
   "metadata": {},
   "outputs": [],
   "source": [
    "annoy_model.build(10)\n",
    "annoy_model.save(intermediate_dir / \"ramen_images_next.ann\")"
   ]
  },
  {
   "cell_type": "code",
   "execution_count": null,
   "metadata": {
    "colab": {},
    "colab_type": "code",
    "id": "7uT-c5-ESFoE"
   },
   "outputs": [],
   "source": [
    "items = trained_model.get_nns_by_item(2, 3, search_k=-1, include_distances=False)\n",
    "print(items)"
   ]
  },
  {
   "cell_type": "code",
   "execution_count": null,
   "metadata": {
    "colab": {},
    "colab_type": "code",
    "id": "7uT-c5-ESFoE"
   },
   "outputs": [],
   "source": []
  },
  {
   "cell_type": "code",
   "execution_count": null,
   "metadata": {
    "colab": {},
    "colab_type": "code",
    "id": "7uT-c5-ESFoE"
   },
   "outputs": [],
   "source": []
  }
 ],
 "metadata": {
  "colab": {
   "include_colab_link": true,
   "name": "hello_ramen.ipynb",
   "provenance": []
  },
  "kernelspec": {
   "display_name": "Python 3",
   "language": "python",
   "name": "python3"
  },
  "language_info": {
   "codemirror_mode": {
    "name": "ipython",
    "version": 3
   },
   "file_extension": ".py",
   "mimetype": "text/x-python",
   "name": "python",
   "nbconvert_exporter": "python",
   "pygments_lexer": "ipython3",
   "version": "3.7.3"
  }
 },
 "nbformat": 4,
 "nbformat_minor": 1
}
